{
 "cells": [
  {
   "cell_type": "code",
   "execution_count": null,
   "metadata": {
    "collapsed": true
   },
   "outputs": [],
   "source": [
    "!pip install --upgrade pip\n",
    "!pip install --upgrade notebook\n",
    "!pip install git-lfs\n",
    "!pip install torch torchvision\n",
    "!pip install datasets transformers\n",
    "!pip install Pillow\n",
    "!pip install pytesseract\n",
    "!pip install sentencepiece\n",
    "!CC=clang CXX=clang++ ARCHFLAGS=\"-arch arm64e\" python -m pip install 'git+https://github.com/facebookresearch/detectron2.git'"
   ]
  }
 ],
 "metadata": {
  "kernelspec": {
   "display_name": "Python 3",
   "language": "python",
   "name": "python3"
  },
  "language_info": {
   "codemirror_mode": {
    "name": "ipython",
    "version": 2
   },
   "file_extension": ".py",
   "mimetype": "text/x-python",
   "name": "python",
   "nbconvert_exporter": "python",
   "pygments_lexer": "ipython2",
   "version": "2.7.6"
  }
 },
 "nbformat": 4,
 "nbformat_minor": 0
}